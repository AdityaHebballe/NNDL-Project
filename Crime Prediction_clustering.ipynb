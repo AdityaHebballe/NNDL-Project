{
 "cells": [
  {
   "cell_type": "code",
   "execution_count": null,
   "metadata": {},
   "outputs": [
    {
     "ename": "",
     "evalue": "",
     "output_type": "error",
     "traceback": [
      "\u001b[1;31mFailed to start the Kernel 'base (Python 3.12.7)'. \n",
      "\u001b[1;31mView Jupyter <a href='command:jupyter.viewOutput'>log</a> for further details. WebSocket is not defined"
     ]
    }
   ],
   "source": [
    "import numpy as np\n",
    "import timeit\n",
    "import pandas as pd\n",
    "from sklearn.preprocessing import StandardScaler\n",
    "\n",
    "from sklearn.cluster import KMeans\n",
    "import matplotlib.pyplot as plt\n",
    "import matplotlib\n",
    "from sklearn.decomposition import PCA\n",
    "from sklearn.metrics import silhouette_samples, silhouette_score\n",
    "import matplotlib.cm as cm\n",
    "from sklearn.preprocessing import StandardScaler\n",
    "from sklearn.model_selection import train_test_split\n",
    "from sklearn.preprocessing import OneHotEncoder\n",
    "from sklearn.ensemble import RandomForestClassifier\n",
    "from sklearn.ensemble import GradientBoostingClassifier\n",
    "from sklearn.metrics import confusion_matrix, classification_report, accuracy_score\n",
    "import seaborn as sns\n"
   ]
  },
  {
   "cell_type": "code",
   "execution_count": null,
   "metadata": {},
   "outputs": [
    {
     "ename": "",
     "evalue": "",
     "output_type": "error",
     "traceback": [
      "\u001b[1;31mFailed to start the Kernel 'base (Python 3.12.7)'. \n",
      "\u001b[1;31mView Jupyter <a href='command:jupyter.viewOutput'>log</a> for further details. WebSocket is not defined"
     ]
    }
   ],
   "source": [
    "df=pd.read_csv(\"MCI_2014_to_2019.csv\")\n",
    "df['Total'] = 1\n",
    "df.head()"
   ]
  },
  {
   "cell_type": "code",
   "execution_count": null,
   "metadata": {},
   "outputs": [
    {
     "ename": "",
     "evalue": "",
     "output_type": "error",
     "traceback": [
      "\u001b[1;31mFailed to start the Kernel 'base (Python 3.12.7)'. \n",
      "\u001b[1;31mView Jupyter <a href='command:jupyter.viewOutput'>log</a> for further details. WebSocket is not defined"
     ]
    }
   ],
   "source": [
    "df.dtypes\n",
    "df.dropna()"
   ]
  },
  {
   "cell_type": "code",
   "execution_count": null,
   "metadata": {},
   "outputs": [
    {
     "ename": "",
     "evalue": "",
     "output_type": "error",
     "traceback": [
      "\u001b[1;31mFailed to start the Kernel 'base (Python 3.12.7)'. \n",
      "\u001b[1;31mView Jupyter <a href='command:jupyter.viewOutput'>log</a> for further details. WebSocket is not defined"
     ]
    }
   ],
   "source": [
    "print('Original Data Size after dropping Duplicates')\n",
    "df = df.drop_duplicates(subset='event_unique_id',keep='first')\n",
    "df.shape"
   ]
  },
  {
   "cell_type": "code",
   "execution_count": null,
   "metadata": {},
   "outputs": [
    {
     "ename": "",
     "evalue": "",
     "output_type": "error",
     "traceback": [
      "\u001b[1;31mFailed to start the Kernel 'base (Python 3.12.7)'. \n",
      "\u001b[1;31mView Jupyter <a href='command:jupyter.viewOutput'>log</a> for further details. WebSocket is not defined"
     ]
    }
   ],
   "source": [
    "drop_colmns = ['X', 'Y', 'Index_', 'reporteddate', 'reportedyear', 'reportedmonth', 'reportedday', 'reporteddayofyear',\n",
    "               'reporteddayofweek', 'reportedhour', 'Hood_ID', 'ucr_code', 'ucr_ext', 'Division', 'occurrencedayofyear']\n",
    "df_dropped = df.drop(columns=drop_colmns)\n"
   ]
  },
  {
   "cell_type": "code",
   "execution_count": null,
   "metadata": {},
   "outputs": [
    {
     "ename": "",
     "evalue": "",
     "output_type": "error",
     "traceback": [
      "\u001b[1;31mFailed to start the Kernel 'base (Python 3.12.7)'. \n",
      "\u001b[1;31mView Jupyter <a href='command:jupyter.viewOutput'>log</a> for further details. WebSocket is not defined"
     ]
    }
   ],
   "source": [
    "df_dropped.dtypes"
   ]
  },
  {
   "cell_type": "code",
   "execution_count": null,
   "metadata": {},
   "outputs": [
    {
     "ename": "",
     "evalue": "",
     "output_type": "error",
     "traceback": [
      "\u001b[1;31mFailed to start the Kernel 'base (Python 3.12.7)'. \n",
      "\u001b[1;31mView Jupyter <a href='command:jupyter.viewOutput'>log</a> for further details. WebSocket is not defined"
     ]
    }
   ],
   "source": [
    "assault = df[df['MCI'] == 'Assault']\n",
    "assault_types = assault.groupby('offence', as_index=False).size()\n",
    "print(assault_types)\n",
    "ct = assault_types.sort_values(by='size', ascending=False)\n"
   ]
  },
  {
   "cell_type": "code",
   "execution_count": null,
   "metadata": {},
   "outputs": [
    {
     "ename": "",
     "evalue": "",
     "output_type": "error",
     "traceback": [
      "\u001b[1;31mFailed to start the Kernel 'base (Python 3.12.7)'. \n",
      "\u001b[1;31mView Jupyter <a href='command:jupyter.viewOutput'>log</a> for further details. WebSocket is not defined"
     ]
    }
   ],
   "source": [
    "df_grouped = df_dropped.groupby(df_dropped['occurrenceyear'])"
   ]
  },
  {
   "cell_type": "code",
   "execution_count": null,
   "metadata": {},
   "outputs": [
    {
     "ename": "",
     "evalue": "",
     "output_type": "error",
     "traceback": [
      "\u001b[1;31mFailed to start the Kernel 'base (Python 3.12.7)'. \n",
      "\u001b[1;31mView Jupyter <a href='command:jupyter.viewOutput'>log</a> for further details. WebSocket is not defined"
     ]
    }
   ],
   "source": [
    "#Analysis by year\n",
    "df_2015 = df_grouped.get_group(2015)\n",
    "df_2016 = df_grouped.get_group(2016)\n",
    "df_2017 = df_grouped.get_group(2017)"
   ]
  },
  {
   "cell_type": "code",
   "execution_count": null,
   "metadata": {},
   "outputs": [
    {
     "ename": "",
     "evalue": "",
     "output_type": "error",
     "traceback": [
      "\u001b[1;31mFailed to start the Kernel 'base (Python 3.12.7)'. \n",
      "\u001b[1;31mView Jupyter <a href='command:jupyter.viewOutput'>log</a> for further details. WebSocket is not defined"
     ]
    }
   ],
   "source": [
    "df_2015_grouped = df_2015.groupby(df_2015['MCI']).count()\n",
    "df_2016_grouped = df_2016.groupby(df_2016['MCI']).count()\n",
    "df_2017_grouped = df_2017.groupby(df_2017['MCI']).count()"
   ]
  },
  {
   "cell_type": "code",
   "execution_count": null,
   "metadata": {},
   "outputs": [
    {
     "ename": "",
     "evalue": "",
     "output_type": "error",
     "traceback": [
      "\u001b[1;31mFailed to start the Kernel 'base (Python 3.12.7)'. \n",
      "\u001b[1;31mView Jupyter <a href='command:jupyter.viewOutput'>log</a> for further details. WebSocket is not defined"
     ]
    }
   ],
   "source": [
    "plot = df_2015_grouped.iloc[:,0]\n",
    "plot = pd.DataFrame(plot)\n",
    "plot.columns = ['Number of Cases']\n",
    "ax = plot.plot(kind='barh',figsize=(15,5),title='Number of Major Crimes Reported in Toronto in 2015')"
   ]
  },
  {
   "cell_type": "code",
   "execution_count": null,
   "metadata": {},
   "outputs": [
    {
     "ename": "",
     "evalue": "",
     "output_type": "error",
     "traceback": [
      "\u001b[1;31mFailed to start the Kernel 'base (Python 3.12.7)'. \n",
      "\u001b[1;31mView Jupyter <a href='command:jupyter.viewOutput'>log</a> for further details. WebSocket is not defined"
     ]
    }
   ],
   "source": [
    "df.head()"
   ]
  },
  {
   "cell_type": "code",
   "execution_count": null,
   "metadata": {},
   "outputs": [
    {
     "ename": "",
     "evalue": "",
     "output_type": "error",
     "traceback": [
      "\u001b[1;31mFailed to start the Kernel 'base (Python 3.12.7)'. \n",
      "\u001b[1;31mView Jupyter <a href='command:jupyter.viewOutput'>log</a> for further details. WebSocket is not defined"
     ]
    }
   ],
   "source": [
    "\n",
    "col_list = ['occurrenceyear',\t'occurrencemonth','occurrenceday','occurrencedayofyear','occurrencedayofweek','occurrencehour','MCI',\t'Division',\t'Hood_ID','premisetype']\n",
    "\n",
    "\n",
    "df2 = df[col_list]\n",
    "df2 = df2[df2['occurrenceyear'] > 2013]\n",
    "\n",
    "#Factorize dependent variable column:\n",
    "crime_var = pd.factorize(df2['MCI'])\n",
    "df2['MCI'] = crime_var[0]\n",
    "definition_list_MCI = crime_var[1]\n",
    "\n",
    "#factorize independent variables:\n",
    "premise_var = pd.factorize(df2['premisetype'])\n",
    "df2['premisetype'] = premise_var[0]\n",
    "definition_list_premise = premise_var[1] \n",
    "\n",
    "#factorize occurenceyear:\n",
    "year_var = pd.factorize(df2['occurrenceyear'])\n",
    "df2['occurrenceyear'] = year_var[0]\n",
    "definition_list_year = year_var[1] \n",
    "\n",
    "#factorize occurencemonth:\n",
    "month_var = pd.factorize(df2['occurrencemonth'])\n",
    "df2['occurrencemonth'] = month_var[0]\n",
    "definition_list_month = month_var[1] \n",
    "\n",
    "#factorize occurenceday:\n",
    "day_var = pd.factorize(df2['occurrenceday'])\n",
    "df2['occurenceday'] = day_var[0]\n",
    "definition_list_day = day_var[1] \n",
    "\n",
    "#factorize occurencedayofweek:\n",
    "dayweek_var = pd.factorize(df2['occurrencedayofweek'])\n",
    "df2['occurrencedayofweek'] = dayweek_var[0]\n",
    "definition_list_day = dayweek_var[1] \n",
    "\n",
    "#factorize division:\n",
    "division_var = pd.factorize(df2['Division'])\n",
    "df2['Division'] = division_var[0]\n",
    "definition_list_division = division_var[1] \n",
    "\n",
    "#factorize HOOD_ID:\n",
    "hood_var = pd.factorize(df2['Hood_ID'])\n",
    "df2['Hood_ID'] = hood_var[0]\n",
    "definition_list_hood = hood_var[1] \n",
    "\n",
    "#factorize occurencehour:\n",
    "hour_var = pd.factorize(df2['occurrencehour'])\n",
    "df2['occurrencehour'] = hour_var[0]\n",
    "definition_list_hour = hour_var[1] \n",
    "\n",
    "#factorize occurencedayofyear:\n",
    "dayyear_var = pd.factorize(df2['occurrencedayofyear'])\n",
    "df2['occurrencedayofyear'] = dayyear_var[0]\n",
    "definition_list_dayyear = dayyear_var[1]"
   ]
  },
  {
   "cell_type": "code",
   "execution_count": null,
   "metadata": {},
   "outputs": [
    {
     "ename": "",
     "evalue": "",
     "output_type": "error",
     "traceback": [
      "\u001b[1;31mFailed to start the Kernel 'base (Python 3.12.7)'. \n",
      "\u001b[1;31mView Jupyter <a href='command:jupyter.viewOutput'>log</a> for further details. WebSocket is not defined"
     ]
    }
   ],
   "source": [
    "df2.head()"
   ]
  },
  {
   "cell_type": "code",
   "execution_count": null,
   "metadata": {},
   "outputs": [
    {
     "ename": "",
     "evalue": "",
     "output_type": "error",
     "traceback": [
      "\u001b[1;31mFailed to start the Kernel 'base (Python 3.12.7)'. \n",
      "\u001b[1;31mView Jupyter <a href='command:jupyter.viewOutput'>log</a> for further details. WebSocket is not defined"
     ]
    }
   ],
   "source": [
    "x = df2.drop(['MCI'], axis=1).values\n",
    "y = df2['MCI'].values\n",
    "X_train, X_test, y_train, y_test = train_test_split(x, y, test_size=0.25, random_state=21)\n",
    "\n",
    "binary_encoder = OneHotEncoder(sparse_output=False, categories='auto')\n",
    "encoded_X = binary_encoder.fit_transform(x)\n",
    "X_train_OH, X_test_OH, y_train_OH, y_test_OH = train_test_split(encoded_X, y, test_size=0.25, random_state=21)\n",
    "\n",
    "classifier = RandomForestClassifier(n_estimators=100, criterion='entropy', random_state=42)\n",
    "classifier.fit(X_train, y_train)\n",
    "y_pred = classifier.predict(X_test)\n",
    "\n",
    "print(\"\\n--- Results for Random Forest with Factorized Features ---\")\n",
    "print(\"Accuracy:\", accuracy_score(y_test, y_pred))\n",
    "\n",
    "cm = confusion_matrix(y_test, y_pred)\n",
    "\n",
    "plt.figure(figsize=(8, 6))\n",
    "sns.heatmap(cm, annot=True, fmt='d', cmap='Blues',\n",
    "            xticklabels=definition_list_MCI, \n",
    "            yticklabels=definition_list_MCI) \n",
    "plt.title('Confusion Matrix - Factorized Features')\n",
    "plt.ylabel('Actual Label')\n",
    "plt.xlabel('Predicted Label')\n",
    "plt.xticks(rotation=45, ha='right') \n",
    "plt.yticks(rotation=0)\n",
    "plt.tight_layout() \n",
    "plt.show()\n",
    "\n",
    "print(\"\\nClassification Report:\")\n",
    "print(classification_report(y_test, y_pred, target_names=definition_list_MCI))\n"
   ]
  },
  {
   "cell_type": "code",
   "execution_count": null,
   "metadata": {},
   "outputs": [
    {
     "ename": "",
     "evalue": "",
     "output_type": "error",
     "traceback": [
      "\u001b[1;31mFailed to start the Kernel 'base (Python 3.12.7)'. \n",
      "\u001b[1;31mView Jupyter <a href='command:jupyter.viewOutput'>log</a> for further details. WebSocket is not defined"
     ]
    }
   ],
   "source": [
    "print(\"\\n--- Results for Random Forest with OneHotEncoder Features ---\")\n",
    "\n",
    "classifier_OH = RandomForestClassifier(n_estimators = 100, criterion = 'entropy', random_state = 42)\n",
    "classifier_OH.fit(X_train_OH, y_train_OH)\n",
    "y_pred_OH = classifier_OH.predict(X_test_OH)\n",
    "\n",
    "\n",
    "print(\"Accuracy:\", accuracy_score(y_test_OH, y_pred_OH))\n",
    "\n",
    "cm_OH = confusion_matrix(y_test_OH, y_pred_OH)\n",
    "\n",
    "plt.figure(figsize=(8, 6))\n",
    "sns.heatmap(cm_OH, annot=True, fmt='d', cmap='Greens', \n",
    "            xticklabels=definition_list_MCI,\n",
    "            yticklabels=definition_list_MCI)\n",
    "plt.title('Confusion Matrix - One-Hot Encoded Features')\n",
    "plt.ylabel('Actual Label')\n",
    "plt.xlabel('Predicted Label')\n",
    "plt.xticks(rotation=45, ha='right') \n",
    "plt.yticks(rotation=0)\n",
    "plt.tight_layout() \n",
    "plt.show()\n",
    "\n",
    "print(\"\\nClassification Report (One-Hot Encoded):\")\n",
    "print(classification_report(y_test_OH, y_pred_OH, target_names=definition_list_MCI))\n"
   ]
  },
  {
   "cell_type": "code",
   "execution_count": null,
   "metadata": {},
   "outputs": [
    {
     "ename": "",
     "evalue": "",
     "output_type": "error",
     "traceback": [
      "\u001b[1;31mFailed to start the Kernel 'base (Python 3.12.7)'. \n",
      "\u001b[1;31mView Jupyter <a href='command:jupyter.viewOutput'>log</a> for further details. WebSocket is not defined"
     ]
    }
   ],
   "source": [
    "import seaborn as sns\n",
    "mci_monthwise = df.groupby(['occurrencemonth', 'MCI'], as_index=False).agg({'Total': 'sum'})\n",
    "\n",
    "plt.figure(figsize=(15, 7))\n",
    "crime_count = mci_monthwise.pivot(index=\"MCI\", columns=\"occurrencemonth\", values=\"Total\")\n",
    "\n",
    "plt.yticks(rotation=1)\n",
    "ax = sns.heatmap(crime_count, cmap=\"YlGnBu\", linewidths=.5)\n",
    "plt.title(\"Major Crime Indicators by Month\", color='red', fontsize=14)\n",
    "plt.show()"
   ]
  },
  {
   "cell_type": "code",
   "execution_count": null,
   "metadata": {},
   "outputs": [
    {
     "ename": "",
     "evalue": "",
     "output_type": "error",
     "traceback": [
      "\u001b[1;31mFailed to start the Kernel 'base (Python 3.12.7)'. \n",
      "\u001b[1;31mView Jupyter <a href='command:jupyter.viewOutput'>log</a> for further details. WebSocket is not defined"
     ]
    }
   ],
   "source": [
    "major_crime_indicator = df.groupby('MCI', as_index=False).size()\n",
    "\n",
    "fig, ax = plt.subplots(figsize=(15, 6))\n",
    "ct = major_crime_indicator.sort_values(by='size', ascending=False)\n",
    "ct.plot.bar(ax=ax)\n",
    "\n",
    "\n",
    "ax.set_xlabel('Offence')\n",
    "ax.set_ylabel('Total Number of Criminal Cases from 2014 to 2019')\n",
    "ax.set_title('Crime Indicator', color='red', fontsize=25)\n",
    "plt.show()"
   ]
  },
  {
   "cell_type": "code",
   "execution_count": null,
   "metadata": {},
   "outputs": [
    {
     "ename": "",
     "evalue": "",
     "output_type": "error",
     "traceback": [
      "\u001b[1;31mFailed to start the Kernel 'base (Python 3.12.7)'. \n",
      "\u001b[1;31mView Jupyter <a href='command:jupyter.viewOutput'>log</a> for further details. WebSocket is not defined"
     ]
    }
   ],
   "source": [
    "hour_crime_group = df.groupby(['occurrencehour','MCI'],as_index=False).agg({'Total':'sum'})\n",
    "fig, ax = plt.subplots(figsize=(15,10))\n",
    "hour_crime_group.groupby('MCI').plot(x=\"occurrencehour\", y=\"Total\", ax=ax,linewidth=5)\n",
    "ax.set_xlabel('Hour')\n",
    "ax.set_ylabel('Number of occurences')\n",
    "ax.set_title('Crime Types by Hour of Day in Toronto',color = 'red',fontsize=25)"
   ]
  },
  {
   "cell_type": "code",
   "execution_count": null,
   "metadata": {},
   "outputs": [
    {
     "ename": "",
     "evalue": "",
     "output_type": "error",
     "traceback": [
      "\u001b[1;31mFailed to start the Kernel 'base (Python 3.12.7)'. \n",
      "\u001b[1;31mView Jupyter <a href='command:jupyter.viewOutput'>log</a> for further details. WebSocket is not defined"
     ]
    }
   ],
   "source": [
    "df_g0 = df_2015.groupby(['Neighbourhood','MCI']).size().to_frame('count').reset_index()\n",
    "df_g0 = df_g0.pivot(index='Neighbourhood',columns='MCI',values='count')\n",
    "df_g0 = df_g0.dropna()\n",
    "\n",
    "df_g = df_2016.groupby(['Neighbourhood','MCI']).size().to_frame('count').reset_index()\n",
    "df_g = df_g.pivot(index='Neighbourhood',columns='MCI',values='count')\n",
    "df_g = df_g.dropna()\n",
    "\n",
    "\n",
    "df_g2 = df_2017.groupby(['Neighbourhood','MCI']).size().to_frame('count').reset_index()\n",
    "df_g2 = df_g2.pivot(index='Neighbourhood',columns='MCI',values='count')\n",
    "df_g2 = df_g2.dropna()"
   ]
  },
  {
   "cell_type": "code",
   "execution_count": null,
   "metadata": {},
   "outputs": [
    {
     "ename": "",
     "evalue": "",
     "output_type": "error",
     "traceback": [
      "\u001b[1;31mFailed to start the Kernel 'base (Python 3.12.7)'. \n",
      "\u001b[1;31mView Jupyter <a href='command:jupyter.viewOutput'>log</a> for further details. WebSocket is not defined"
     ]
    }
   ],
   "source": [
    "df_g0.head(10)"
   ]
  },
  {
   "cell_type": "code",
   "execution_count": null,
   "metadata": {},
   "outputs": [
    {
     "ename": "",
     "evalue": "",
     "output_type": "error",
     "traceback": [
      "\u001b[1;31mFailed to start the Kernel 'base (Python 3.12.7)'. \n",
      "\u001b[1;31mView Jupyter <a href='command:jupyter.viewOutput'>log</a> for further details. WebSocket is not defined"
     ]
    }
   ],
   "source": [
    "scaler = StandardScaler()\n",
    "Sum_of_squared_distances0 = []\n",
    "Sum_of_squared_distances = []\n",
    "Sum_of_squared_distances2 = []\n",
    "\n",
    "std_scale = scaler.fit(df_g0)\n",
    "df_transformed0 = std_scale.transform(df_g0)\n",
    "pca = PCA(n_components=3)\n",
    "pca = pca.fit(df_transformed0)\n",
    "X0 = pca.transform(df_transformed0)\n",
    "K = range(1,15)\n",
    "for k in K:\n",
    "    km = KMeans(n_clusters=k)\n",
    "    km = km.fit(df_transformed0)\n",
    "    Sum_of_squared_distances0.append(km.inertia_)\n",
    "\n",
    "\n",
    "std_scale = scaler.fit(df_g)\n",
    "df_transformed = std_scale.transform(df_g)\n",
    "pca = PCA(n_components=3)\n",
    "pca = pca.fit(df_transformed)\n",
    "X = pca.transform(df_transformed)\n",
    "K = range(1,15)\n",
    "for k in K:\n",
    "    km = KMeans(n_clusters=k)\n",
    "    km = km.fit(df_transformed)\n",
    "    Sum_of_squared_distances.append(km.inertia_)\n",
    "    \n",
    "    \n",
    "std_scale = scaler.fit(df_g2)\n",
    "df_transformed2 = std_scale.transform(df_g2)\n",
    "pca = PCA(n_components=3)\n",
    "pca = pca.fit(df_transformed2)\n",
    "X1 = pca.transform(df_transformed2)\n",
    "\n",
    "K = range(1,15)\n",
    "for k in K:\n",
    "    km = KMeans(n_clusters=k)\n",
    "    km = km.fit(df_transformed2)\n",
    "    Sum_of_squared_distances2.append(km.inertia_)\n"
   ]
  },
  {
   "cell_type": "code",
   "execution_count": null,
   "metadata": {},
   "outputs": [
    {
     "data": {
      "image/png": "[encoded data removed]",
      "text/plain": [
       "<Figure size 640x480 with 1 Axes>"
      ]
     },
     "metadata": {},
     "output_type": "display_data"
    }
   ],
   "source": [
    "plt.plot(K, Sum_of_squared_distances0, 'bx-')\n",
    "plt.xlabel('k')\n",
    "plt.ylabel('Sum_of_squared_distances')\n",
    "plt.title('Elbow Method For Optimal k')\n",
    "plt.show()"
   ]
  },
  {
   "cell_type": "code",
   "execution_count": null,
   "metadata": {},
   "outputs": [
    {
     "ename": "",
     "evalue": "",
     "output_type": "error",
     "traceback": [
      "\u001b[1;31mFailed to start the Kernel 'base (Python 3.12.7)'. \n",
      "\u001b[1;31mView Jupyter <a href='command:jupyter.viewOutput'>log</a> for further details. WebSocket is not defined"
     ]
    }
   ],
   "source": [
    "plt.plot(K, Sum_of_squared_distances, 'bx-')\n",
    "plt.xlabel('k')\n",
    "plt.ylabel('Sum_of_squared_distances')\n",
    "plt.title('Elbow Method For Optimal k')\n",
    "plt.show()"
   ]
  },
  {
   "cell_type": "code",
   "execution_count": null,
   "metadata": {},
   "outputs": [
    {
     "ename": "",
     "evalue": "",
     "output_type": "error",
     "traceback": [
      "\u001b[1;31mFailed to start the Kernel 'base (Python 3.12.7)'. \n",
      "\u001b[1;31mView Jupyter <a href='command:jupyter.viewOutput'>log</a> for further details. WebSocket is not defined"
     ]
    }
   ],
   "source": [
    "plt.plot(K, Sum_of_squared_distances2, 'bx-')\n",
    "plt.xlabel('k')\n",
    "plt.ylabel('Sum_of_squared_distances')\n",
    "plt.title('Elbow Method For Optimal k')\n",
    "plt.show()"
   ]
  },
  {
   "cell_type": "code",
   "execution_count": null,
   "metadata": {},
   "outputs": [
    {
     "ename": "",
     "evalue": "",
     "output_type": "error",
     "traceback": [
      "\u001b[1;31mFailed to start the Kernel 'base (Python 3.12.7)'. \n",
      "\u001b[1;31mView Jupyter <a href='command:jupyter.viewOutput'>log</a> for further details. WebSocket is not defined"
     ]
    }
   ],
   "source": [
    "X_list = [X0, X, X1]\n",
    "year_list = [2015,2016,2017]\n",
    "for i,y in zip(X_list,year_list):\n",
    "    from sklearn import metrics\n",
    "    clustering = KMeans(n_clusters=2,random_state=3425).fit(i)\n",
    "    labels = clustering.labels_\n",
    "    print(\"Silhouette score(K-means) for year\",y,\"is\",metrics.silhouette_score(i, labels, metric='euclidean'))"
   ]
  },
  {
   "cell_type": "code",
   "execution_count": null,
   "metadata": {},
   "outputs": [
    {
     "ename": "",
     "evalue": "",
     "output_type": "error",
     "traceback": [
      "\u001b[1;31mFailed to start the Kernel 'base (Python 3.12.7)'. \n",
      "\u001b[1;31mView Jupyter <a href='command:jupyter.viewOutput'>log</a> for further details. WebSocket is not defined"
     ]
    }
   ],
   "source": [
    "neighborhoods0 = df_g0.index\n",
    "neighborhoods0 = np.array(neighborhoods0)\n",
    "\n",
    "neighborhoods = df_g.index\n",
    "neighborhoods = np.array(neighborhoods)\n",
    "\n",
    "neighborhoods2 = df_g2.index\n",
    "neighborhoods2 = np.array(neighborhoods2)\n",
    "#Display Neighboorhoods\n",
    "print('Crime Neighborhoods by K-Means in 2015')\n",
    "print(neighborhoods0[np.where(klabel0[0]==1)])\n",
    "kviolent15 = neighborhoods0[np.where(klabel0[0]==1)]\n",
    "kviolent15s = neighborhoods0[np.where(klabel0[0]==0)]\n",
    "kviolent15m = neighborhoods0[np.where(klabel0[0]==2)]\n",
    "\n",
    "print('Crime Neighborhoods by K-Means in 2016')\n",
    "print(neighborhoods[np.where(klabel1[0]==1)])\n",
    "kviolent16 = neighborhoods[np.where(klabel1[0]==1)]\n",
    "kviolent16s = neighborhoods[np.where(klabel1[0]==0)]\n",
    "kviolent16m = neighborhoods[np.where(klabel1[0]==2)]\n",
    "\n",
    "\n",
    "print('Crime Neighborhoods by K-Means in 2017')\n",
    "print(neighborhoods2[np.where(klabel2[0]==1)])\n",
    "kviolent17 = neighborhoods2[np.where(klabel2[0]==1)]\n",
    "kviolent17s = neighborhoods2[np.where(klabel2[0]==0)]\n",
    "kviolent17m = neighborhoods2[np.where(klabel2[0]==2)]"
   ]
  },
  {
   "cell_type": "code",
   "execution_count": null,
   "metadata": {},
   "outputs": [
    {
     "ename": "",
     "evalue": "",
     "output_type": "error",
     "traceback": [
      "\u001b[1;31mFailed to start the Kernel 'base (Python 3.12.7)'. \n",
      "\u001b[1;31mView Jupyter <a href='command:jupyter.viewOutput'>log</a> for further details. WebSocket is not defined"
     ]
    }
   ],
   "source": [
    "plt.figure(num=None, figsize=(10, 8))\n",
    "plt.scatter(\"Long\", \"Lat\", data = df, c = 'y',alpha = 0.1, edgecolor = 'black', s=2)\n",
    "plt.grid()\n",
    "plt.xlabel('long')\n",
    "plt.ylabel('lat')\n",
    "plt.title('Toronto Crime')\n",
    "plt.tight_layout()\n",
    "plt.axis('tight')\n",
    "\n",
    "plt.show()"
   ]
  },
  {
   "cell_type": "code",
   "execution_count": null,
   "metadata": {},
   "outputs": [
    {
     "ename": "",
     "evalue": "",
     "output_type": "error",
     "traceback": [
      "\u001b[1;31mFailed to start the Kernel 'base (Python 3.12.7)'. \n",
      "\u001b[1;31mView Jupyter <a href='command:jupyter.viewOutput'>log</a> for further details. WebSocket is not defined"
     ]
    }
   ],
   "source": []
  },
  {
   "cell_type": "code",
   "execution_count": null,
   "metadata": {},
   "outputs": [
    {
     "ename": "",
     "evalue": "",
     "output_type": "error",
     "traceback": [
      "\u001b[1;31mFailed to start the Kernel 'base (Python 3.12.7)'. \n",
      "\u001b[1;31mView Jupyter <a href='command:jupyter.viewOutput'>log</a> for further details. WebSocket is not defined"
     ]
    }
   ],
   "source": []
  },
  {
   "cell_type": "code",
   "execution_count": null,
   "metadata": {},
   "outputs": [
    {
     "ename": "",
     "evalue": "",
     "output_type": "error",
     "traceback": [
      "\u001b[1;31mFailed to start the Kernel 'base (Python 3.12.7)'. \n",
      "\u001b[1;31mView Jupyter <a href='command:jupyter.viewOutput'>log</a> for further details. WebSocket is not defined"
     ]
    }
   ],
   "source": []
  },
  {
   "cell_type": "code",
   "execution_count": null,
   "metadata": {},
   "outputs": [],
   "source": []
  }
 ],
 "metadata": {
  "kernelspec": {
   "display_name": "base",
   "language": "python",
   "name": "python3"
  },
  "language_info": {
   "codemirror_mode": {
    "name": "ipython",
    "version": 3
   },
   "file_extension": ".py",
   "mimetype": "text/x-python",
   "name": "python",
   "nbconvert_exporter": "python",
   "pygments_lexer": "ipython3",
   "version": "3.12.7"
  }
 },
 "nbformat": 4,
 "nbformat_minor": 2
}
